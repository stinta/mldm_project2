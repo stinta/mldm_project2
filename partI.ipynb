{
 "cells": [
  {
   "cell_type": "markdown",
   "metadata": {
    "collapsed": true
   },
   "source": [
    "# Part I: Data Preparation\n",
    "\n",
    "## Read data from csv"
   ]
  },
  {
   "cell_type": "code",
   "execution_count": 1,
   "metadata": {
    "collapsed": true
   },
   "outputs": [],
   "source": [
    "import pandas as pd\n",
    "import numpy as np\n",
    "\n",
    "DATA_DIR = 'data'\n",
    "CSV_FILE = DATA_DIR + '/'+ \"KaggleV2-May-2016.csv\"\n",
    "\n",
    "def load_medical_data(csv_file=CSV_FILE):\n",
    "    # read data using read_csv function\n",
    "    return  pd.read_csv(CSV_FILE,dtype={'PatientId':str})\n"
   ]
  },
  {
   "cell_type": "code",
   "execution_count": 2,
   "metadata": {},
   "outputs": [
    {
     "data": {
      "text/plain": [
       "(110527, 14)"
      ]
     },
     "execution_count": 2,
     "metadata": {},
     "output_type": "execute_result"
    }
   ],
   "source": [
    "raw_appdt_df = load_medical_data()\n",
    "raw_appdt_df.shape"
   ]
  },
  {
   "cell_type": "code",
   "execution_count": 4,
   "metadata": {},
   "outputs": [
    {
     "data": {
      "text/html": [
       "<div>\n",
       "<style>\n",
       "    .dataframe thead tr:only-child th {\n",
       "        text-align: right;\n",
       "    }\n",
       "\n",
       "    .dataframe thead th {\n",
       "        text-align: left;\n",
       "    }\n",
       "\n",
       "    .dataframe tbody tr th {\n",
       "        vertical-align: top;\n",
       "    }\n",
       "</style>\n",
       "<table border=\"1\" class=\"dataframe\">\n",
       "  <thead>\n",
       "    <tr style=\"text-align: right;\">\n",
       "      <th></th>\n",
       "      <th>PatientId</th>\n",
       "      <th>AppointmentID</th>\n",
       "      <th>Gender</th>\n",
       "      <th>ScheduledDay</th>\n",
       "      <th>AppointmentDay</th>\n",
       "      <th>Age</th>\n",
       "      <th>Neighbourhood</th>\n",
       "      <th>Scholarship</th>\n",
       "      <th>Hipertension</th>\n",
       "      <th>Diabetes</th>\n",
       "      <th>Alcoholism</th>\n",
       "      <th>Handcap</th>\n",
       "      <th>SMS_received</th>\n",
       "      <th>No-show</th>\n",
       "    </tr>\n",
       "  </thead>\n",
       "  <tbody>\n",
       "    <tr>\n",
       "      <th>0</th>\n",
       "      <td>29872499824296</td>\n",
       "      <td>5642903</td>\n",
       "      <td>F</td>\n",
       "      <td>2016-04-29T18:38:08Z</td>\n",
       "      <td>2016-04-29T00:00:00Z</td>\n",
       "      <td>62</td>\n",
       "      <td>JARDIM DA PENHA</td>\n",
       "      <td>0</td>\n",
       "      <td>1</td>\n",
       "      <td>0</td>\n",
       "      <td>0</td>\n",
       "      <td>0</td>\n",
       "      <td>0</td>\n",
       "      <td>No</td>\n",
       "    </tr>\n",
       "    <tr>\n",
       "      <th>1</th>\n",
       "      <td>558997776694438</td>\n",
       "      <td>5642503</td>\n",
       "      <td>M</td>\n",
       "      <td>2016-04-29T16:08:27Z</td>\n",
       "      <td>2016-04-29T00:00:00Z</td>\n",
       "      <td>56</td>\n",
       "      <td>JARDIM DA PENHA</td>\n",
       "      <td>0</td>\n",
       "      <td>0</td>\n",
       "      <td>0</td>\n",
       "      <td>0</td>\n",
       "      <td>0</td>\n",
       "      <td>0</td>\n",
       "      <td>No</td>\n",
       "    </tr>\n",
       "    <tr>\n",
       "      <th>2</th>\n",
       "      <td>4262962299951</td>\n",
       "      <td>5642549</td>\n",
       "      <td>F</td>\n",
       "      <td>2016-04-29T16:19:04Z</td>\n",
       "      <td>2016-04-29T00:00:00Z</td>\n",
       "      <td>62</td>\n",
       "      <td>MATA DA PRAIA</td>\n",
       "      <td>0</td>\n",
       "      <td>0</td>\n",
       "      <td>0</td>\n",
       "      <td>0</td>\n",
       "      <td>0</td>\n",
       "      <td>0</td>\n",
       "      <td>No</td>\n",
       "    </tr>\n",
       "    <tr>\n",
       "      <th>3</th>\n",
       "      <td>867951213174</td>\n",
       "      <td>5642828</td>\n",
       "      <td>F</td>\n",
       "      <td>2016-04-29T17:29:31Z</td>\n",
       "      <td>2016-04-29T00:00:00Z</td>\n",
       "      <td>8</td>\n",
       "      <td>PONTAL DE CAMBURI</td>\n",
       "      <td>0</td>\n",
       "      <td>0</td>\n",
       "      <td>0</td>\n",
       "      <td>0</td>\n",
       "      <td>0</td>\n",
       "      <td>0</td>\n",
       "      <td>No</td>\n",
       "    </tr>\n",
       "    <tr>\n",
       "      <th>4</th>\n",
       "      <td>8841186448183</td>\n",
       "      <td>5642494</td>\n",
       "      <td>F</td>\n",
       "      <td>2016-04-29T16:07:23Z</td>\n",
       "      <td>2016-04-29T00:00:00Z</td>\n",
       "      <td>56</td>\n",
       "      <td>JARDIM DA PENHA</td>\n",
       "      <td>0</td>\n",
       "      <td>1</td>\n",
       "      <td>1</td>\n",
       "      <td>0</td>\n",
       "      <td>0</td>\n",
       "      <td>0</td>\n",
       "      <td>No</td>\n",
       "    </tr>\n",
       "  </tbody>\n",
       "</table>\n",
       "</div>"
      ],
      "text/plain": [
       "         PatientId  AppointmentID Gender          ScheduledDay  \\\n",
       "0   29872499824296        5642903      F  2016-04-29T18:38:08Z   \n",
       "1  558997776694438        5642503      M  2016-04-29T16:08:27Z   \n",
       "2    4262962299951        5642549      F  2016-04-29T16:19:04Z   \n",
       "3     867951213174        5642828      F  2016-04-29T17:29:31Z   \n",
       "4    8841186448183        5642494      F  2016-04-29T16:07:23Z   \n",
       "\n",
       "         AppointmentDay  Age      Neighbourhood  Scholarship  Hipertension  \\\n",
       "0  2016-04-29T00:00:00Z   62    JARDIM DA PENHA            0             1   \n",
       "1  2016-04-29T00:00:00Z   56    JARDIM DA PENHA            0             0   \n",
       "2  2016-04-29T00:00:00Z   62      MATA DA PRAIA            0             0   \n",
       "3  2016-04-29T00:00:00Z    8  PONTAL DE CAMBURI            0             0   \n",
       "4  2016-04-29T00:00:00Z   56    JARDIM DA PENHA            0             1   \n",
       "\n",
       "   Diabetes  Alcoholism  Handcap  SMS_received No-show  \n",
       "0         0           0        0             0      No  \n",
       "1         0           0        0             0      No  \n",
       "2         0           0        0             0      No  \n",
       "3         0           0        0             0      No  \n",
       "4         1           0        0             0      No  "
      ]
     },
     "execution_count": 4,
     "metadata": {},
     "output_type": "execute_result"
    }
   ],
   "source": [
    "raw_appdt_df.head()"
   ]
  },
  {
   "cell_type": "markdown",
   "metadata": {},
   "source": [
    "## Data cleanup\n",
    "\n",
    "- Cleanup column names\n",
    "- Remove records with erroneous entries (e.g., negative ages). Look at what people have done in Kaggle"
   ]
  },
  {
   "cell_type": "code",
   "execution_count": 5,
   "metadata": {
    "scrolled": true
   },
   "outputs": [
    {
     "data": {
      "text/plain": [
       "Index(['PatientId', 'AppointmentID', 'Gender', 'ScheduledDay',\n",
       "       'AppointmentDay', 'Age', 'Neighbourhood', 'Scholarship', 'Hipertension',\n",
       "       'Diabetes', 'Alcoholism', 'Handcap', 'SMS_received', 'noShow',\n",
       "       'noShow_flag'],\n",
       "      dtype='object')"
      ]
     },
     "execution_count": 5,
     "metadata": {},
     "output_type": "execute_result"
    }
   ],
   "source": [
    "import datetime\n",
    "\n",
    "def setNoShowFlag(noShowStr):\n",
    "    flag = 1\n",
    "    if noShowStr == 'No':\n",
    "        flag=0\n",
    "    return flag\n",
    "\n",
    "clean_appdt_df = raw_appdt_df\n",
    "\n",
    "#dropping cols with Age < 0\n",
    "clean_appdt_df.drop(clean_appdt_df[clean_appdt_df['Age'] < 0].index,inplace=True)\n",
    "\n",
    "#ensuring all PatientId's are ints; casting the type to int\n",
    "if (clean_appdt_df.PatientId.dtype == object):\n",
    "    #clean_appdt_df.drop(clean_appdt_df[clean_appdt_df['PatientId'].str.contains(\"E\")].index,inplace=True)\n",
    "    clean_appdt_df = clean_appdt_df[clean_appdt_df['PatientId'].str.isnumeric()]\n",
    "    clean_appdt_df.PatientId = clean_appdt_df.PatientId.astype(np.int64)\n",
    "\n",
    "#setting the types to datetime format\n",
    "clean_appdt_df.ScheduledDay = pd.to_datetime(clean_appdt_df.ScheduledDay)    \n",
    "clean_appdt_df.AppointmentDay = pd.to_datetime(clean_appdt_df.AppointmentDay)\n",
    "\n",
    "clean_appdt_df.rename(columns={'No-show':'noShow'}, inplace=True)\n",
    "clean_appdt_df['noShow_flag'] = clean_appdt_df.noShow.map(lambda x:setNoShowFlag(x))\n",
    "\n",
    "clean_appdt_df.Neighbourhood = clean_appdt_df.Neighbourhood.str.encode('utf-8').str.decode('ascii', 'ignore')\n",
    "\n",
    "clean_appdt_df.columns"
   ]
  },
  {
   "cell_type": "markdown",
   "metadata": {},
   "source": [
    "## Test set creation\n",
    "\n",
    "- Create a test set of 20k records\n",
    "- Use stratified sampling on the `No-Show` variable to make sure class proportions are the same for train and test sets\n",
    "- Save train and test sets as csv files in the `processed_data` directory"
   ]
  },
  {
   "cell_type": "code",
   "execution_count": 6,
   "metadata": {},
   "outputs": [
    {
     "data": {
      "text/plain": [
       "No     88202\n",
       "Yes    22319\n",
       "Name: noShow, dtype: int64"
      ]
     },
     "execution_count": 6,
     "metadata": {},
     "output_type": "execute_result"
    }
   ],
   "source": [
    "PROCESSED_DATA_DIR = 'processed_data'\n",
    "clean_appdt_df.noShow.value_counts()"
   ]
  },
  {
   "cell_type": "code",
   "execution_count": 7,
   "metadata": {},
   "outputs": [
    {
     "data": {
      "text/plain": [
       "No     0.798056\n",
       "Yes    0.201944\n",
       "Name: noShow, dtype: float64"
      ]
     },
     "execution_count": 7,
     "metadata": {},
     "output_type": "execute_result"
    }
   ],
   "source": [
    "clean_appdt_df['noShow'].value_counts()/len(clean_appdt_df)"
   ]
  },
  {
   "cell_type": "code",
   "execution_count": 8,
   "metadata": {},
   "outputs": [
    {
     "data": {
      "text/plain": [
       "No     0.797503\n",
       "Yes    0.202452\n",
       "Name: noShow, dtype: float64"
      ]
     },
     "execution_count": 8,
     "metadata": {},
     "output_type": "execute_result"
    }
   ],
   "source": [
    "# create test set with stratified sampling here\n",
    "from sklearn.model_selection import StratifiedShuffleSplit\n",
    "\n",
    "split = StratifiedShuffleSplit(n_splits=1, test_size=0.2, random_state=1234)\n",
    "for train_index, test_index in split.split(clean_appdt_df, clean_appdt_df[\"noShow\"]):\n",
    "    train_set = clean_appdt_df.loc[train_index]\n",
    "    test_set = clean_appdt_df.loc[test_index]\n",
    "    \n",
    "train_set[\"noShow\"].value_counts() / len(train_set)"
   ]
  },
  {
   "cell_type": "code",
   "execution_count": 9,
   "metadata": {},
   "outputs": [
    {
     "data": {
      "text/plain": [
       "No     0.80000\n",
       "Yes    0.19991\n",
       "Name: noShow, dtype: float64"
      ]
     },
     "execution_count": 9,
     "metadata": {},
     "output_type": "execute_result"
    }
   ],
   "source": [
    "test_set[\"noShow\"].value_counts()/len(test_set)"
   ]
  },
  {
   "cell_type": "code",
   "execution_count": 10,
   "metadata": {},
   "outputs": [
    {
     "data": {
      "text/plain": [
       "0.0    70512\n",
       "1.0    17900\n",
       "Name: noShow_flag, dtype: int64"
      ]
     },
     "execution_count": 10,
     "metadata": {},
     "output_type": "execute_result"
    }
   ],
   "source": [
    "train_set['noShow_flag'].value_counts()"
   ]
  },
  {
   "cell_type": "code",
   "execution_count": 11,
   "metadata": {},
   "outputs": [
    {
     "data": {
      "text/plain": [
       "PatientId                float64\n",
       "AppointmentID            float64\n",
       "Gender                    object\n",
       "ScheduledDay      datetime64[ns]\n",
       "AppointmentDay    datetime64[ns]\n",
       "Age                      float64\n",
       "Neighbourhood             object\n",
       "Scholarship              float64\n",
       "Hipertension             float64\n",
       "Diabetes                 float64\n",
       "Alcoholism               float64\n",
       "Handcap                  float64\n",
       "SMS_received             float64\n",
       "noShow                    object\n",
       "noShow_flag              float64\n",
       "dtype: object"
      ]
     },
     "execution_count": 11,
     "metadata": {},
     "output_type": "execute_result"
    }
   ],
   "source": [
    "train_set.dtypes"
   ]
  },
  {
   "cell_type": "code",
   "execution_count": 12,
   "metadata": {
    "scrolled": true
   },
   "outputs": [
    {
     "data": {
      "text/html": [
       "<div>\n",
       "<style>\n",
       "    .dataframe thead tr:only-child th {\n",
       "        text-align: right;\n",
       "    }\n",
       "\n",
       "    .dataframe thead th {\n",
       "        text-align: left;\n",
       "    }\n",
       "\n",
       "    .dataframe tbody tr th {\n",
       "        vertical-align: top;\n",
       "    }\n",
       "</style>\n",
       "<table border=\"1\" class=\"dataframe\">\n",
       "  <thead>\n",
       "    <tr style=\"text-align: right;\">\n",
       "      <th></th>\n",
       "      <th>PatientId</th>\n",
       "      <th>AppointmentID</th>\n",
       "      <th>Gender</th>\n",
       "      <th>ScheduledDay</th>\n",
       "      <th>AppointmentDay</th>\n",
       "      <th>Age</th>\n",
       "      <th>Neighbourhood</th>\n",
       "      <th>Scholarship</th>\n",
       "      <th>Hipertension</th>\n",
       "      <th>Diabetes</th>\n",
       "      <th>Alcoholism</th>\n",
       "      <th>Handcap</th>\n",
       "      <th>SMS_received</th>\n",
       "      <th>noShow</th>\n",
       "      <th>noShow_flag</th>\n",
       "    </tr>\n",
       "  </thead>\n",
       "  <tbody>\n",
       "    <tr>\n",
       "      <th>70240</th>\n",
       "      <td>2.148655e+13</td>\n",
       "      <td>5706165.0</td>\n",
       "      <td>M</td>\n",
       "      <td>2016-05-17 07:56:47</td>\n",
       "      <td>2016-05-17</td>\n",
       "      <td>19.0</td>\n",
       "      <td>CONSOLAO</td>\n",
       "      <td>0.0</td>\n",
       "      <td>0.0</td>\n",
       "      <td>0.0</td>\n",
       "      <td>0.0</td>\n",
       "      <td>0.0</td>\n",
       "      <td>0.0</td>\n",
       "      <td>No</td>\n",
       "      <td>0.0</td>\n",
       "    </tr>\n",
       "    <tr>\n",
       "      <th>80012</th>\n",
       "      <td>8.643140e+11</td>\n",
       "      <td>5663252.0</td>\n",
       "      <td>F</td>\n",
       "      <td>2016-05-05 09:45:12</td>\n",
       "      <td>2016-05-06</td>\n",
       "      <td>53.0</td>\n",
       "      <td>PRAIA DO CANTO</td>\n",
       "      <td>0.0</td>\n",
       "      <td>0.0</td>\n",
       "      <td>0.0</td>\n",
       "      <td>0.0</td>\n",
       "      <td>0.0</td>\n",
       "      <td>0.0</td>\n",
       "      <td>No</td>\n",
       "      <td>0.0</td>\n",
       "    </tr>\n",
       "    <tr>\n",
       "      <th>78289</th>\n",
       "      <td>9.899738e+12</td>\n",
       "      <td>5676815.0</td>\n",
       "      <td>M</td>\n",
       "      <td>2016-05-09 16:34:13</td>\n",
       "      <td>2016-05-12</td>\n",
       "      <td>13.0</td>\n",
       "      <td>BELA VISTA</td>\n",
       "      <td>0.0</td>\n",
       "      <td>0.0</td>\n",
       "      <td>0.0</td>\n",
       "      <td>0.0</td>\n",
       "      <td>0.0</td>\n",
       "      <td>0.0</td>\n",
       "      <td>Yes</td>\n",
       "      <td>1.0</td>\n",
       "    </tr>\n",
       "    <tr>\n",
       "      <th>31316</th>\n",
       "      <td>6.635635e+11</td>\n",
       "      <td>5641604.0</td>\n",
       "      <td>F</td>\n",
       "      <td>2016-04-29 14:01:00</td>\n",
       "      <td>2016-05-12</td>\n",
       "      <td>28.0</td>\n",
       "      <td>PARQUE MOSCOSO</td>\n",
       "      <td>0.0</td>\n",
       "      <td>1.0</td>\n",
       "      <td>0.0</td>\n",
       "      <td>0.0</td>\n",
       "      <td>0.0</td>\n",
       "      <td>1.0</td>\n",
       "      <td>No</td>\n",
       "      <td>0.0</td>\n",
       "    </tr>\n",
       "    <tr>\n",
       "      <th>94555</th>\n",
       "      <td>1.971461e+14</td>\n",
       "      <td>5753404.0</td>\n",
       "      <td>M</td>\n",
       "      <td>2016-05-31 14:02:06</td>\n",
       "      <td>2016-06-03</td>\n",
       "      <td>3.0</td>\n",
       "      <td>DA PENHA</td>\n",
       "      <td>0.0</td>\n",
       "      <td>0.0</td>\n",
       "      <td>0.0</td>\n",
       "      <td>0.0</td>\n",
       "      <td>0.0</td>\n",
       "      <td>1.0</td>\n",
       "      <td>Yes</td>\n",
       "      <td>1.0</td>\n",
       "    </tr>\n",
       "  </tbody>\n",
       "</table>\n",
       "</div>"
      ],
      "text/plain": [
       "          PatientId  AppointmentID Gender        ScheduledDay AppointmentDay  \\\n",
       "70240  2.148655e+13      5706165.0      M 2016-05-17 07:56:47     2016-05-17   \n",
       "80012  8.643140e+11      5663252.0      F 2016-05-05 09:45:12     2016-05-06   \n",
       "78289  9.899738e+12      5676815.0      M 2016-05-09 16:34:13     2016-05-12   \n",
       "31316  6.635635e+11      5641604.0      F 2016-04-29 14:01:00     2016-05-12   \n",
       "94555  1.971461e+14      5753404.0      M 2016-05-31 14:02:06     2016-06-03   \n",
       "\n",
       "        Age   Neighbourhood  Scholarship  Hipertension  Diabetes  Alcoholism  \\\n",
       "70240  19.0        CONSOLAO          0.0           0.0       0.0         0.0   \n",
       "80012  53.0  PRAIA DO CANTO          0.0           0.0       0.0         0.0   \n",
       "78289  13.0      BELA VISTA          0.0           0.0       0.0         0.0   \n",
       "31316  28.0  PARQUE MOSCOSO          0.0           1.0       0.0         0.0   \n",
       "94555   3.0        DA PENHA          0.0           0.0       0.0         0.0   \n",
       "\n",
       "       Handcap  SMS_received noShow  noShow_flag  \n",
       "70240      0.0           0.0     No          0.0  \n",
       "80012      0.0           0.0     No          0.0  \n",
       "78289      0.0           0.0    Yes          1.0  \n",
       "31316      0.0           1.0     No          0.0  \n",
       "94555      0.0           1.0    Yes          1.0  "
      ]
     },
     "execution_count": 12,
     "metadata": {},
     "output_type": "execute_result"
    }
   ],
   "source": [
    "train_set.head()"
   ]
  },
  {
   "cell_type": "code",
   "execution_count": 13,
   "metadata": {
    "collapsed": true
   },
   "outputs": [],
   "source": [
    "train_set['Age_bin'] = np.around(train_set.Age,decimals=-1)"
   ]
  },
  {
   "cell_type": "code",
   "execution_count": null,
   "metadata": {
    "collapsed": true
   },
   "outputs": [],
   "source": [
    "#TODO : find a way to preserve dtypes of initial clear_appdt_df"
   ]
  },
  {
   "cell_type": "markdown",
   "metadata": {},
   "source": [
    "## Exploratory Data Analysis\n",
    "\n",
    "Plot the `No-show` variable against other variables. Remember from this point forward you are only using the training set created in the previous step"
   ]
  },
  {
   "cell_type": "code",
   "execution_count": 14,
   "metadata": {},
   "outputs": [
    {
     "data": {
      "image/png": "[encoded data removed]",
      "text/plain": [
       "<matplotlib.figure.Figure at 0x7ff06cb89c50>"
      ]
     },
     "metadata": {},
     "output_type": "display_data"
    }
   ],
   "source": [
    "%matplotlib inline\n",
    "import matplotlib.pyplot as plt\n",
    "\n",
    "import seaborn as sns\n",
    "cols = 4\n",
    "rows = 2\n",
    "fig, axs = plt.subplots(figsize=(20,20),nrows=rows,ncols=cols)\n",
    "\n",
    "#TODO: Adjust fontsize\n",
    "\n",
    "for idx,feature in enumerate(['Gender','Age_bin','Scholarship','Hipertension','Diabetes','Alcoholism','Handcap','SMS_received']):\n",
    "    idy,idx = divmod(idx,rows)    \n",
    "    \n",
    "    if feature !='Age_bin':\n",
    "        axs[idx][idy].set_xlim(0,70000)\n",
    "    sns.countplot(y=\"noShow\", hue=feature, data=train_set,ax=axs[idx][idy])"
   ]
  },
  {
   "cell_type": "code",
   "execution_count": null,
   "metadata": {
    "collapsed": true
   },
   "outputs": [],
   "source": [
    "# TODO: Plot by Neighboorhood but select the top instances"
   ]
  },
  {
   "cell_type": "markdown",
   "metadata": {},
   "source": [
    "## Data preprocessing\n",
    "\n",
    "Create a scikit pipeline for preprocessing the data to prepare it for ML algorithms. At a minimum your pipeline should:\n",
    "\n",
    "- Standardize numerical variables\n",
    "- Transform categorical variables into numeric variables\n",
    "\n",
    "Optionally, you can perform any other transformation you think is suitable. Again, refer to the intro notebook for an example of setting up a preprocessing pipeline."
   ]
  },
  {
   "cell_type": "code",
   "execution_count": null,
   "metadata": {
    "collapsed": true
   },
   "outputs": [],
   "source": [
    "#EXTRACTED FROM EXAMPLE  ### NEEDS TO BE DEBUGGED\n",
    "\n",
    "from sklearn.base import BaseEstimator, TransformerMixin\n",
    "from sklearn.pipeline import Pipeline, FeatureUnion\n",
    "from sklearn.preprocessing import Imputer, StandardScaler, LabelEncoder\n",
    "\n",
    "cat_attributes = ['Gender','Neighbourhood']\n",
    "num_attributes = ['Age']\n",
    "#[x for x in list(housing) if x not in cat_attributes]\n",
    "\n",
    "#TODO (What about dates?)\n",
    "\n",
    "# This is used to select columns from a pandas DataFrame \n",
    "# Needed since sklearn does not have builtin support for pandas\n",
    "class DataFrameSelector(BaseEstimator, TransformerMixin):\n",
    "    def __init__(self, attribute_names):\n",
    "        self.attribute_names = attribute_names\n",
    "        \n",
    "    def fit(self, X, y=None):\n",
    "        return self\n",
    "    \n",
    "    def transform(self, X, y=None):\n",
    "        return X[self.attribute_names].values\n",
    "    \n",
    "num_pipeline = Pipeline([\n",
    "    ('selector', DataFrameSelector(num_attributes)),\n",
    "    ('imputer', Imputer(strategy=\"median\")),\n",
    "    ('std_scaler', StandardScaler()),\n",
    "])\n",
    "\n",
    "cat_pipeline = Pipeline([\n",
    "    ('selector', DataFrameSelector(cat_attributes)),\n",
    "    ('label_encoder', LabelEncoder())\n",
    "])\n",
    "\n",
    "full_pipeline = FeatureUnion(transformer_list=[\n",
    "   ('num_pipeline', num_pipeline),\n",
    "    ('cat_pipeline', cat_pipeline)\n",
    "])"
   ]
  },
  {
   "cell_type": "code",
   "execution_count": null,
   "metadata": {},
   "outputs": [],
   "source": [
    "medicaldata = full_pipeline.fit_transform(train_set)"
   ]
  }
 ],
 "metadata": {
  "kernelspec": {
   "display_name": "Python 3",
   "language": "python",
   "name": "python3"
  },
  "language_info": {
   "codemirror_mode": {
    "name": "ipython",
    "version": 3
   },
   "file_extension": ".py",
   "mimetype": "text/x-python",
   "name": "python",
   "nbconvert_exporter": "python",
   "pygments_lexer": "ipython3",
   "version": "3.5.2"
  }
 },
 "nbformat": 4,
 "nbformat_minor": 2
}
